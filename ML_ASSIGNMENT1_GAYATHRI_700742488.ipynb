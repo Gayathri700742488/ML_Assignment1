{
 "cells": [
  {
   "cell_type": "code",
   "execution_count": 1,
   "id": "c5bb9ec8",
   "metadata": {},
   "outputs": [
    {
     "name": "stdout",
     "output_type": "stream",
     "text": [
      "[19, 22, 19, 24, 20, 25, 26, 24, 25, 24]\n",
      "[19, 19, 20, 22, 24, 24, 24, 25, 25, 26]\n",
      "26 19\n",
      "[19, 19, 20, 22, 24, 24, 24, 25, 25, 26, 19, 26]\n",
      "6\n",
      "The median is: 24.0\n",
      "The average of ages is: 22.75\n",
      "Range of ages is : 7\n"
     ]
    }
   ],
   "source": [
    "#QUESTION 1\n",
    "#The following is a list of 10 students ages:\n",
    "#ages = [19, 22, 19, 24, 20, 25, 26, 24, 25, 24]\n",
    "#• Sort the list and find the min and max age\n",
    "#• Add the min age and the max age again to the list\n",
    "#• Find the median age (one middle item or two middle items divided by two)\n",
    "#• Find the average age (sum of all items divided by their number)\n",
    "#• Find the range of the ages (max minus min)\n",
    "\n",
    "#CREATING A LIST\n",
    "ages = [19, 22, 19, 24, 20, 25, 26, 24, 25, 24]\n",
    "print(ages)\n",
    "#Sorting the list using built-In function\n",
    "ages.sort()\n",
    "#printing sorted list\n",
    "print(ages) \n",
    "#printing max and min ages\n",
    "print(max(ages), min(ages))\n",
    "#Adding min and max ages agin to the List\n",
    "ages.extend([min(ages),max(ages)])\n",
    "#printing the List after adding min and max ages\n",
    "print(ages)\n",
    "\n",
    "#Finding MEDIAN of the List (Method1)\n",
    "ages.sort()\n",
    "middle= int(len(ages)/2) #Middle term\n",
    "print(middle)\n",
    "\n",
    "#Checking if middle value is even or odd\n",
    "if middle % 2==0:\n",
    "    res= int(ages[middle-1]+ ages[middle])/2\n",
    "print(\"The median is:\", res)\n",
    "#average Age\n",
    "avg= sum(ages)/len(ages)\n",
    "print(\"The average of ages is:\", avg)\n",
    "#range of ages\n",
    "rangeofages = max(ages)-min(ages)\n",
    "print(\"Range of ages is :\", rangeofages)\n",
    "\n",
    "   \n"
   ]
  },
  {
   "cell_type": "code",
   "execution_count": 2,
   "id": "fe4166c1",
   "metadata": {},
   "outputs": [
    {
     "name": "stdout",
     "output_type": "stream",
     "text": [
      "Length of the student Dictionary 9\n",
      "student skills ['JAVA', 'python'] The type of the Skills <class 'list'>\n",
      "['first_name', 'last_name', 'gender', 'age', 'maritial_status', 'skills', 'country', 'city', 'address']\n",
      "values ['Gayathri', 'Keshamoni', 'Female', '24', 'single', ['JAVA', 'python', 'C language', 'SQL'], 'India', 'Hyderabad', '201,HitechCity']\n"
     ]
    }
   ],
   "source": [
    "#QUESTION 2\n",
    "#Create an empty dictionary called dog\n",
    "#• Add name, color, breed, legs, age to the dog dictionary\n",
    "#• Create a student dictionary and add first_name, last_name, gender, age, marital status,\n",
    "#skills, country, city and address as keys for the dictionary\n",
    "#• Get the length of the student dictionary\n",
    "#• Get the value of skills and check the data type, it should be a list\n",
    "#• Modify the skills values by adding one or two skills\n",
    "#• Get the dictionary keys as a list\n",
    "#• Get the dictionary values as a list\n",
    "\n",
    "#Creating an empty dictionary dog   \n",
    "dog=dict() \n",
    "\n",
    "#Adding given items as keys and empty values to them\n",
    "dog={\"Name\":\"\",\"Color\":\"\",\"Breed\":\"\",\"Legs\":\"\",\"Age\":\"\"} \n",
    "\n",
    " #Creating student dictionary \n",
    "student={\"first_name\":\"Gayathri\",\"last_name\":\"Keshamoni\",                        \n",
    "\"gender\":\"Female\",\"age\":\"24\",\"maritial_status\":\"single\",\"skills\":[\"JAVA\",\"python\"],\n",
    "\"country\":\"India\",\"city\":\"Hyderabad\",\"address\":\"201,HitechCity\"}\n",
    "\n",
    "#length of the student dictionary\n",
    "print(\"Length of the student Dictionary\",len(student))         \n",
    "\n",
    "#Values in skills and type of data\n",
    "print(\"student skills\",student[\"skills\"], \"The type of the Skills\",type(student[\"skills\"]))\n",
    "\n",
    "#Modifying the skill values\n",
    "student[\"skills\"]=student[\"skills\"]+[\"C language\",\"SQL\"]  \n",
    "\n",
    "#dictionary keys as a list\n",
    "gList = list(student.keys())                                                      \n",
    "gList = list(student.keys())       \n",
    "\n",
    "#Dictionary values as a list\n",
    "print(gList)\n",
    "print(\"values\",list(student.values()))\n",
    "\n"
   ]
  },
  {
   "cell_type": "code",
   "execution_count": 3,
   "id": "a12bf948",
   "metadata": {},
   "outputs": [
    {
     "name": "stdout",
     "output_type": "stream",
     "text": [
      "('B1', 'B2', 'B3', 'B4', 'S1', 'S2')\n",
      "I have  6  siblings\n",
      "('B1', 'B2', 'B3', 'B4', 'S1', 'S2', 'RadhaKrishna', 'Sadguna')\n"
     ]
    }
   ],
   "source": [
    "#Question 3\n",
    "#Create a tuple containing names of your sisters and your brothers (imaginary siblings are fine)\n",
    "#• Join brothers and sisters tuples and assign it to siblings\n",
    "#• How many siblings do you have?\n",
    "#• Modify the siblings tuple and add the name of your father and mother and assign it to family_members\n",
    "\n",
    "#Brothers tuple\n",
    "brothers=(\"B1\",\"B2\",\"B3\",\"B4\")  \n",
    "\n",
    "#Sisters tuple\n",
    "sisters=(\"S1\",\"S2\")  \n",
    "\n",
    "#Joining tuples and assigning it to siblings tuple\n",
    "siblings=brothers+sisters     \n",
    "print(siblings)  \n",
    "\n",
    "#Length of tuple\n",
    "print(\"I have \",len(siblings), \" siblings\")\n",
    "\n",
    "#Modifying the siblings tuple by adding parent names and assigning it to a new tuple familymembers\n",
    "siblings=siblings+(\"RadhaKrishna\",\"Sadguna\") \n",
    "\n",
    "#Assigning modified siblings tuple to familymembers tuple\n",
    "familymembers=siblings\n",
    "print(familymembers)"
   ]
  },
  {
   "cell_type": "code",
   "execution_count": 4,
   "id": "bfb9cabf",
   "metadata": {},
   "outputs": [
    {
     "name": "stdout",
     "output_type": "stream",
     "text": [
      "Total IT_companies  7\n",
      "Added new Company  {'Oracle', 'Google', 'Apple', 'Twitter', 'IBM', 'Facebook', 'Microsoft', 'Amazon'}\n",
      "Added multiple companies  {'JP Morgan', 'Oracle', 'IBM', 'ADP', 'Amazon', 'Google', 'Apple', 'Facebook', 'Microsoft', 'Twitter', 'Infosys'}\n",
      "After removing one of the values {'JP Morgan', 'Oracle', 'IBM', 'Amazon', 'Google', 'Apple', 'Facebook', 'Microsoft', 'Twitter', 'Infosys'}\n",
      "A Union B  {19, 20, 22, 24, 25, 26, 27, 28}\n",
      "A Intersection B  {19, 20, 22, 24, 25, 26}\n",
      "Is A is subset of B : True\n",
      "is A and B are disjoint sets : False\n",
      "the symmetric difference between A and B : {27, 28}\n",
      "deleting set A and B  None None\n",
      "converted age list to set  {19, 20, 22, 24, 25, 26}\n",
      "Comparing the length of the list and the Set by taking the difference between length of age list and length of age set is  6\n"
     ]
    }
   ],
   "source": [
    "#Question 4\n",
    "#it_companies = {'Facebook', 'Google', 'Microsoft', 'Apple', 'IBM', 'Oracle', 'Amazon'}\n",
    "#A = {19, 22, 24, 20, 25, 26}\n",
    "#B = {19, 22, 20, 25, 26, 24, 28, 27}\n",
    "#age = [22, 19, 24, 25, 26, 24, 25, 24]\n",
    "#• Find the length of the set it_companies\n",
    "#• Add 'Twitter' to it_companies\n",
    "#• Insert multiple IT companies at once to the set it_companies\n",
    "#• Remove one of the companies from the set it_companies\n",
    "#• What is the difference between remove and discard\n",
    "#• Join A and B\n",
    "#• Find A intersection B\n",
    "#• Is A subset of B\n",
    "#• Are A and B disjoint sets\n",
    "#• Join A with B and B with A\n",
    "#• What is the symmetric difference between A and B\n",
    "#• Delete the sets completely\n",
    "#• Convert the ages to a set and compare the length of the list and the set\n",
    "\n",
    "it_companies = {'Facebook', 'Google', 'Microsoft', 'Apple', 'IBM', 'Oracle', 'Amazon'}\n",
    "A = {19, 22, 24, 20, 25, 26}\n",
    "B = {19, 22, 20, 25, 26, 24, 28, 27}\n",
    "age = [22, 19, 24, 25, 26, 24, 25, 24]\n",
    " \n",
    "#length of it_companies set\n",
    "Countcompanies = len(it_companies)\n",
    "print(\"Total IT_companies \",Countcompanies)  \n",
    "\n",
    "#Adding twitter to the set it_companies\n",
    "it_companies.add(\"Twitter\")\n",
    "print(\"Added new Company \",it_companies)\n",
    "#updating the set with new IT companies\n",
    "it_companies.update([\"ADP\",\"JP Morgan\",\"Infosys\"])\n",
    "print(\"Added multiple companies \",it_companies)\n",
    "#Removing a company from the set\n",
    "it_companies.remove(\"ADP\")\n",
    "print(\"After removing one of the values\",it_companies)\n",
    "\n",
    "\n",
    "#Difference between remove and discard ? \n",
    "#Answer:The discard() method removes the specified item from the set and whereas the remove() method will \n",
    "#raise an error if the specified item does not exist.\n",
    "\n",
    "#Joining A and B\n",
    "AB_Joined=A.union(B)\n",
    "print(\"A Union B \",AB_Joined)\n",
    "AB_INtersection=A.intersection(B)\n",
    "print(\"A Intersection B \",AB_INtersection)\n",
    "#• Is A subset of B\n",
    "print(\"Is A is subset of B :\",A.issubset(B))\n",
    "#Are A and B disjoint sets\n",
    "print(\"is A and B are disjoint sets :\",A.isdisjoint(B))\n",
    "#• What is the symmetric difference between A and B\n",
    "print(\"the symmetric difference between A and B :\",A.symmetric_difference(B))\n",
    "#• Delete the sets completely\n",
    "print(\"deleting set A and B \", A.clear(), B.clear())\n",
    "\n",
    "#converting age list to a set\n",
    "agesSet=set(ages) \n",
    "\n",
    "#converting age list to a set\n",
    "print(\"converted age list to set \",agesSet)\n",
    "\n",
    "#comparing lengths of the list and set\n",
    "print(\"Comparing the length of the list and the Set by taking the difference between length of age list and length of age set is \",len(ages)-len(agesSet))\n"
   ]
  },
  {
   "cell_type": "code",
   "execution_count": 5,
   "id": "8d3f3f14",
   "metadata": {},
   "outputs": [
    {
     "name": "stdout",
     "output_type": "stream",
     "text": [
      "radius of the circle is: 30\n",
      "Area of Circle  2826.0\n",
      "Circumference of circle  188.4\n",
      "enter radius of your choice:2\n",
      "The area of circle with radius {r} is: {12.56}\n"
     ]
    }
   ],
   "source": [
    "#Question 5\n",
    "#The radius of a circle is 30 meters.\n",
    "#• Calculate the area of a circle and assign the value to a variable name of _area_of_circle_\n",
    "#• Calculate the circumference of a circle and assign the value to a variable name of_circum_of_circle_\n",
    "#• Take radius as user input and calculate the area.\n",
    "\n",
    "#Radius to be entered on run time\n",
    "radius= 30                                             \n",
    "print(\"radius of the circle is:\", radius)      \n",
    "\n",
    "#Area of the circle formula: pi*r*r\n",
    "area_of_circle=3.14*(radius**2)\n",
    "print(\"Area of Circle \",area_of_circle)  \n",
    "\n",
    "#Circumference of circle formula: 2*pi*r \n",
    "circum_of_circle=2*3.14*radius                                                          \n",
    "print(\"Circumference of circle \",circum_of_circle)\n",
    "\n",
    "#taking user input for radius\n",
    "\n",
    "r = float(input(\"enter radius of your choice:\"))\n",
    "print(\"The area of circle with radius {r} is:\",  {round(3.14 * r * r,2)})"
   ]
  },
  {
   "cell_type": "code",
   "execution_count": 6,
   "id": "52d42f72",
   "metadata": {},
   "outputs": [
    {
     "name": "stdout",
     "output_type": "stream",
     "text": [
      "No.of unique words are  10\n"
     ]
    }
   ],
   "source": [
    "#Question 6\n",
    "#“I am a teacher and I love to inspire and teach people”\n",
    "#• How many unique words have been used in the sentence? Use the split methods and set\n",
    "#to get the unique words.\n",
    "\n",
    "sentence=\"I am a teacher and I love to inspire and teach people\"\n",
    "\n",
    "uniquewords=set(sentence.split()) \n",
    "\n",
    "#Printing number of unique word from the given sentence\n",
    "print(\"No.of unique words are \",len(uniquewords))                                "
   ]
  },
  {
   "cell_type": "code",
   "execution_count": 7,
   "id": "a2f56489",
   "metadata": {},
   "outputs": [
    {
     "name": "stdout",
     "output_type": "stream",
     "text": [
      "Name\t\tAge\t\tCountry\t\tCity\n",
      "Asabeneh\t25\t\tFinland\t\tHelsinki\n"
     ]
    }
   ],
   "source": [
    "#Question 7\n",
    "#Use a tab escape sequence to get the following lines.\n",
    " #    Name Age Country City\n",
    " #  Asabeneh 250 Finland Helsinki\n",
    "\n",
    "#Making use of backwards slash t and n for tab key stroke and next line\n",
    "print(\"Name\\t\\tAge\\t\\tCountry\\t\\tCity\\nAsabeneh\\t25\\t\\tFinland\\t\\tHelsinki\")    "
   ]
  },
  {
   "cell_type": "code",
   "execution_count": 8,
   "id": "001942fd",
   "metadata": {},
   "outputs": [
    {
     "name": "stdout",
     "output_type": "stream",
     "text": [
      "The area of a circle with radius 10 is 314.0 meters square.\n"
     ]
    }
   ],
   "source": [
    "#Question 8\n",
    "#Use the string formatting method to display the following:\n",
    "#radius = 10\n",
    "#area = 3.14 * radius ** 2\n",
    "#“The area of a circle with radius 10 is 314 meters square.”\n",
    "\n",
    "radius = 10\n",
    "area = 3.14 * radius ** 2\n",
    "print(\"The area of a circle with radius %s is %s meters square.\" %(radius,area))  "
   ]
  },
  {
   "cell_type": "code",
   "execution_count": 9,
   "id": "634910e4",
   "metadata": {},
   "outputs": [
    {
     "name": "stdout",
     "output_type": "stream",
     "text": [
      "Enter number of elements:2\n",
      "100\n",
      "150\n",
      "[100, 150]\n",
      "[45.35, 68.025]\n"
     ]
    }
   ],
   "source": [
    "#Question 9\n",
    "#Write a program, which reads weights (lbs.) of N students into a list and convert these weights to\n",
    "#kilograms in a separate list using Loop. N: No of students (Read input from user)\n",
    "\n",
    "students_wt=[]                           #weights in Lbs\n",
    "limit=int(input(\"Enter number of elements:\"))\n",
    "students_wt_kgs=[]                               #weights in kgs\n",
    "for i in range(0,limit):                    #Iteration to limit\n",
    "    students_wt.append(int(input()))\n",
    "    students_wt_kgs.append(students_wt[i]*0.4535)     #converting lbs to kgs\n",
    "print(students_wt)\n",
    "print(students_wt_kgs)"
   ]
  },
  {
   "cell_type": "code",
   "execution_count": null,
   "id": "a09c06aa",
   "metadata": {},
   "outputs": [],
   "source": []
  }
 ],
 "metadata": {
  "kernelspec": {
   "display_name": "Python 3 (ipykernel)",
   "language": "python",
   "name": "python3"
  },
  "language_info": {
   "codemirror_mode": {
    "name": "ipython",
    "version": 3
   },
   "file_extension": ".py",
   "mimetype": "text/x-python",
   "name": "python",
   "nbconvert_exporter": "python",
   "pygments_lexer": "ipython3",
   "version": "3.9.12"
  }
 },
 "nbformat": 4,
 "nbformat_minor": 5
}
